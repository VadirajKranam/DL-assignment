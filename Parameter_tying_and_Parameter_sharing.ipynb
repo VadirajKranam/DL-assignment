{
  "nbformat": 4,
  "nbformat_minor": 0,
  "metadata": {
    "colab": {
      "provenance": []
    },
    "kernelspec": {
      "name": "python3",
      "display_name": "Python 3"
    },
    "language_info": {
      "name": "python"
    }
  },
  "cells": [
    {
      "cell_type": "code",
      "source": [
        "import tensorflow as tf\n",
        "from tensorflow.keras import layers, models\n",
        "\n",
        "# Load and preprocess the CIFAR-10 dataset\n",
        "(train_images, train_labels), (test_images, test_labels) = tf.keras.datasets.cifar10.load_data()\n",
        "train_images, test_images = train_images / 255.0, test_images / 255.0\n",
        "\n",
        "# Define a CNN with parameter sharing\n",
        "def shared_cnn():\n",
        "    input_layer = layers.Input(shape=(32, 32, 3))\n",
        "\n",
        "    # Shared convolutional layer\n",
        "    shared_conv = layers.Conv2D(32, (3, 3), activation='relu', padding='same')\n",
        "\n",
        "    # Branch 1\n",
        "    x1 = shared_conv(input_layer)\n",
        "    x1 = layers.MaxPooling2D((2, 2))(x1)\n",
        "    x1 = layers.Flatten()(x1)\n",
        "    x1 = layers.Dense(128, activation='relu')(x1)\n",
        "\n",
        "    # Branch 2\n",
        "    x2 = shared_conv(input_layer)\n",
        "    x2 = layers.MaxPooling2D((2, 2))(x2)\n",
        "    x2 = layers.Flatten()(x2)\n",
        "    x2 = layers.Dense(128, activation='relu')(x2)\n",
        "\n",
        "    # Merge branches\n",
        "    merged = layers.concatenate([x1, x2])\n",
        "\n",
        "    # Output layer\n",
        "    output_layer = layers.Dense(10, activation='softmax')(merged)\n",
        "\n",
        "    # Create model\n",
        "    model = models.Model(inputs=input_layer, outputs=output_layer)\n",
        "\n",
        "    return model\n",
        "\n",
        "# Compile and train the model\n",
        "model = shared_cnn()\n",
        "model.compile(optimizer='adam', loss='sparse_categorical_crossentropy', metrics=['accuracy'])\n",
        "model.summary()\n",
        "\n",
        "# Train the model\n",
        "model.fit(train_images, train_labels, epochs=10, validation_data=(test_images, test_labels))\n"
      ],
      "metadata": {
        "id": "EAz6YIXph0Sh"
      },
      "execution_count": null,
      "outputs": []
    }
  ]
}